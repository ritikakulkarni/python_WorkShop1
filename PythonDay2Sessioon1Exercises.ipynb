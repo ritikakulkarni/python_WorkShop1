{
  "nbformat": 4,
  "nbformat_minor": 0,
  "metadata": {
    "colab": {
      "name": "PythonDay2Sessioon1Exercises.ipynb",
      "provenance": [],
      "authorship_tag": "ABX9TyNFBhzLHGe5CJbK0nV78EiF",
      "include_colab_link": true
    },
    "kernelspec": {
      "name": "python3",
      "display_name": "Python 3"
    }
  },
  "cells": [
    {
      "cell_type": "markdown",
      "metadata": {
        "id": "view-in-github",
        "colab_type": "text"
      },
      "source": [
        "<a href=\"https://colab.research.google.com/github/ritikakulkarni/python_WorkShop1/blob/master/PythonDay2Sessioon1Exercises.ipynb\" target=\"_parent\"><img src=\"https://colab.research.google.com/assets/colab-badge.svg\" alt=\"Open In Colab\"/></a>"
      ]
    },
    {
      "cell_type": "markdown",
      "metadata": {
        "id": "SgulCqsiS3bx",
        "colab_type": "text"
      },
      "source": [
        "# 1. print multiples of 3 upto 200 using a list"
      ]
    },
    {
      "cell_type": "code",
      "metadata": {
        "id": "q88MLJNfS8eO",
        "colab_type": "code",
        "colab": {
          "base_uri": "https://localhost:8080/",
          "height": 68
        },
        "outputId": "d24b0fb1-c992-4a3b-9b16-577fb32f9f77"
      },
      "source": [
        "import numpy as np\n",
        "x = np.arange(1, 100)\n",
        "# find  multiple of 3 or 5\n",
        "n= x[(x % 3 == 0) | (x % 5 == 0)]\n",
        "print(n[:200])\n",
        "# print sum the numbers\n",
        "print(n.sum())"
      ],
      "execution_count": 1,
      "outputs": [
        {
          "output_type": "stream",
          "text": [
            "[ 3  5  6  9 10 12 15 18 20 21 24 25 27 30 33 35 36 39 40 42 45 48 50 51\n",
            " 54 55 57 60 63 65 66 69 70 72 75 78 80 81 84 85 87 90 93 95 96 99]\n",
            "2318\n"
          ],
          "name": "stdout"
        }
      ]
    },
    {
      "cell_type": "markdown",
      "metadata": {
        "id": "D3EgzpxxTH8b",
        "colab_type": "text"
      },
      "source": [
        "# 2. print the nos only divisable by 5 and 7 between 1000 and 2000 using a list( both inclusive)"
      ]
    },
    {
      "cell_type": "code",
      "metadata": {
        "id": "epKuQRmjTZCV",
        "colab_type": "code",
        "colab": {
          "base_uri": "https://localhost:8080/",
          "height": 54
        },
        "outputId": "dba35574-b591-4ad1-9cd1-cd709c63738a"
      },
      "source": [
        "nl=[]\n",
        "for x in range(1500, 2701):\n",
        "    if (x%7==0) and (x%5==0):\n",
        "        nl.append(str(x))\n",
        "print (','.join(nl))"
      ],
      "execution_count": 2,
      "outputs": [
        {
          "output_type": "stream",
          "text": [
            "1505,1540,1575,1610,1645,1680,1715,1750,1785,1820,1855,1890,1925,1960,1995,2030,2065,2100,2135,2170,2205,2240,2275,2310,2345,2380,2415,2450,2485,2520,2555,2590,2625,2660,2695\n"
          ],
          "name": "stdout"
        }
      ]
    },
    {
      "cell_type": "markdown",
      "metadata": {
        "id": "j-GtWEA7Td7V",
        "colab_type": "text"
      },
      "source": [
        "3. Add the n number of names in a list and print them alphabetically and reverse alphabetically.\n",
        "\n",
        "# New Section"
      ]
    },
    {
      "cell_type": "code",
      "metadata": {
        "id": "H8n1tENETgy_",
        "colab_type": "code",
        "colab": {
          "base_uri": "https://localhost:8080/",
          "height": 170
        },
        "outputId": "b2f006a2-5e8c-4056-af47-a70ab2bb4d71"
      },
      "source": [
        "# Program to sort alphabetically the words form a string provided by the user\n",
        "\n",
        "my_str = \"Hello this Is an Example With cased letters\"\n",
        "\n",
        "# To take input from the user\n",
        "#my_str = input(\"Enter a string: \")\n",
        "\n",
        "# breakdown the string into a list of words\n",
        "words = my_str.split()\n",
        "\n",
        "# sort the list\n",
        "words.sort()\n",
        "\n",
        "# display the sorted words\n",
        "\n",
        "print(\"The sorted words are:\")\n",
        "for word in words:\n",
        "   print(word)"
      ],
      "execution_count": 3,
      "outputs": [
        {
          "output_type": "stream",
          "text": [
            "The sorted words are:\n",
            "Example\n",
            "Hello\n",
            "Is\n",
            "With\n",
            "an\n",
            "cased\n",
            "letters\n",
            "this\n"
          ],
          "name": "stdout"
        }
      ]
    },
    {
      "cell_type": "markdown",
      "metadata": {
        "id": "s4Wz2l0xUO4G",
        "colab_type": "text"
      },
      "source": [
        "# 4. Print  perfect squares and divisible by 5 between 500 and 1000( (both inclusive) using list"
      ]
    },
    {
      "cell_type": "code",
      "metadata": {
        "id": "M1hKmM3zUYdR",
        "colab_type": "code",
        "colab": {
          "base_uri": "https://localhost:8080/",
          "height": 34
        },
        "outputId": "a5962330-5627-46ef-8a77-3803c6e1d92f"
      },
      "source": [
        "def squares(a, b):\n",
        "    lists=[]\n",
        "    # Traverse through all numbers\n",
        "    for i in range (a,b+1):\n",
        "        j = 1;\n",
        "        while j*j <= i:\n",
        "            if j*j == i:\n",
        "                 lists.append(i)  \n",
        "            j = j+1\n",
        "        i = i+1\n",
        "    return lists\n",
        "print(squares(5, 1000))"
      ],
      "execution_count": 4,
      "outputs": [
        {
          "output_type": "stream",
          "text": [
            "[9, 16, 25, 36, 49, 64, 81, 100, 121, 144, 169, 196, 225, 256, 289, 324, 361, 400, 441, 484, 529, 576, 625, 676, 729, 784, 841, 900, 961]\n"
          ],
          "name": "stdout"
        }
      ]
    },
    {
      "cell_type": "markdown",
      "metadata": {
        "id": "Ax1xY3-_Uf8A",
        "colab_type": "text"
      },
      "source": [
        "# 5.Calculate the Average of  the numbers in a List by getting the elements of list from keyboard ."
      ]
    },
    {
      "cell_type": "code",
      "metadata": {
        "id": "gdX5zju0Uk0U",
        "colab_type": "code",
        "colab": {
          "base_uri": "https://localhost:8080/",
          "height": 34
        },
        "outputId": "05e63185-e490-43d8-96bd-69ac46b5ea26"
      },
      "source": [
        "# Python program to get average of a list \n",
        "def Average(lst): \n",
        "    return sum(lst) / len(lst) \n",
        "  \n",
        "# Driver Code \n",
        "lst = [15, 9, 55, 41, 35, 20, 62, 49] \n",
        "average = Average(lst) \n",
        "  \n",
        "# Printing average of the list \n",
        "print(\"Average of the list =\", round(average, 2)) "
      ],
      "execution_count": 6,
      "outputs": [
        {
          "output_type": "stream",
          "text": [
            "Average of the list = 35.75\n"
          ],
          "name": "stdout"
        }
      ]
    },
    {
      "cell_type": "markdown",
      "metadata": {
        "id": "fS06gicgVU2P",
        "colab_type": "text"
      },
      "source": [
        "# Tuple exercises\n",
        "\n",
        "1. Python Program to Create a List of Tuples with the First Element as the Number and Second Element as the Square of the Number "
      ]
    },
    {
      "cell_type": "code",
      "metadata": {
        "id": "tV0H3rJvWc4M",
        "colab_type": "code",
        "colab": {
          "base_uri": "https://localhost:8080/",
          "height": 34
        },
        "outputId": "b6f3432f-3719-419b-f568-eafa41808010"
      },
      "source": [
        "# creating a list \n",
        "list1 = [1, 2, 5, 6] \n",
        "  \n",
        "# using list comprehension to iterate each \n",
        "# values in list and create a tuple as specified \n",
        "res = [(val, pow(val, 3)) for val in list1] \n",
        "  \n",
        "# print the result \n",
        "print(res) "
      ],
      "execution_count": 8,
      "outputs": [
        {
          "output_type": "stream",
          "text": [
            "[(1, 1), (2, 8), (5, 125), (6, 216)]\n"
          ],
          "name": "stdout"
        }
      ]
    }
  ]
}