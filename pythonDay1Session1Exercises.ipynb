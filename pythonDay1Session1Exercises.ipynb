{
  "nbformat": 4,
  "nbformat_minor": 0,
  "metadata": {
    "colab": {
      "name": "pythonDay1Session1Exercises.ipynb",
      "provenance": [],
      "authorship_tag": "ABX9TyN9RSxKgklvConLsF6gJv4p",
      "include_colab_link": true
    },
    "kernelspec": {
      "name": "python3",
      "display_name": "Python 3"
    }
  },
  "cells": [
    {
      "cell_type": "markdown",
      "metadata": {
        "id": "view-in-github",
        "colab_type": "text"
      },
      "source": [
        "<a href=\"https://colab.research.google.com/github/ritikakulkarni/python_WorkShop1/blob/master/pythonDay1Session1Exercises.ipynb\" target=\"_parent\"><img src=\"https://colab.research.google.com/assets/colab-badge.svg\" alt=\"Open In Colab\"/></a>"
      ]
    },
    {
      "cell_type": "code",
      "metadata": {
        "id": "cyw6NDZnfJWD",
        "colab_type": "code",
        "colab": {}
      },
      "source": [
        ""
      ],
      "execution_count": null,
      "outputs": []
    },
    {
      "cell_type": "markdown",
      "metadata": {
        "id": "Dg_7skGVfZlj",
        "colab_type": "text"
      },
      "source": [
        "# 1.\tFind the compound interest for the given p,n,r  (formula : p(1+n*r/100)n )"
      ]
    },
    {
      "cell_type": "code",
      "metadata": {
        "id": "urZN70yUffaD",
        "colab_type": "code",
        "colab": {
          "base_uri": "https://localhost:8080/",
          "height": 34
        },
        "outputId": "026e3079-7fd9-4ff4-e66f-d8c1c6d317fe"
      },
      "source": [
        "#program to find compound \n",
        "# interest for given values. \n",
        "\n",
        "def compound_interest(principle, rate, time): \n",
        "\n",
        "\t# Calculates compound interest \n",
        "\tAmount = principle * (pow((1 + rate / 100), time)) \n",
        "\tCI = Amount - principle \n",
        "\tprint(\"Compound interest is\", CI) \n",
        "\n",
        "\n",
        "compound_interest(10000, 10.25, 5) \n",
        "\n",
        "\n"
      ],
      "execution_count": 1,
      "outputs": [
        {
          "output_type": "stream",
          "text": [
            "Compound interest is 6288.946267774416\n"
          ],
          "name": "stdout"
        }
      ]
    },
    {
      "cell_type": "markdown",
      "metadata": {
        "id": "R27mxuPWfwfT",
        "colab_type": "text"
      },
      "source": [
        "# 2.\tConvert centegrade to farenheit  ( f= 9/5*c+32)"
      ]
    },
    {
      "cell_type": "code",
      "metadata": {
        "id": "CA8_N6Izf2T2",
        "colab_type": "code",
        "colab": {
          "base_uri": "https://localhost:8080/",
          "height": 51
        },
        "outputId": "a90f4abc-d084-47b4-c84b-2d75fb3fe364"
      },
      "source": [
        "c = float(input(\"Enter temperature in celsius: \"))\n",
        "fahrenheit = (c * 9/5) + 32\n",
        "print('%.2f Centegrade is: %0.2f Fahrenheit' %(c, fahrenheit))"
      ],
      "execution_count": 5,
      "outputs": [
        {
          "output_type": "stream",
          "text": [
            "Enter temperature in celsius: 30\n",
            "30.00 Centegrade is: 86.00 Fahrenheit\n"
          ],
          "name": "stdout"
        }
      ]
    },
    {
      "cell_type": "markdown",
      "metadata": {
        "id": "DdyGseE9hY3_",
        "colab_type": "text"
      },
      "source": [
        "# 3.\tFind the greater of two nos "
      ]
    },
    {
      "cell_type": "code",
      "metadata": {
        "id": "O15TrfT3hzrz",
        "colab_type": "code",
        "colab": {
          "base_uri": "https://localhost:8080/",
          "height": 68
        },
        "outputId": "296efd6a-675d-4df9-bfd0-05bfc7e3e38b"
      },
      "source": [
        "# Python Program to find Largest of Two Numbers\n",
        "\n",
        "a = float(input(\" Please Enter the First Value a: \"))\n",
        "b = float(input(\" Please Enter the Second Value b: \"))\n",
        "\n",
        "if(a > b):\n",
        "    print(\"{0} is Greater than {1}\".format(a, b))\n",
        "elif(b > a):\n",
        "    print(\"{0} is Greater than {1}\".format(b, a))\n",
        "else:\n",
        "    print(\"Both a and b are Equal\")"
      ],
      "execution_count": 6,
      "outputs": [
        {
          "output_type": "stream",
          "text": [
            " Please Enter the First Value a: 40\n",
            " Please Enter the Second Value b: 30\n",
            "40.0 is Greater than 30.0\n"
          ],
          "name": "stdout"
        }
      ]
    },
    {
      "cell_type": "markdown",
      "metadata": {
        "id": "cJnjQqsth96O",
        "colab_type": "text"
      },
      "source": [
        "# 4.\tWrite a program for finding surface areas of cylinder and cone (2*PI*r*r*h, 1/3*PI*r*r*h) using function."
      ]
    },
    {
      "cell_type": "code",
      "metadata": {
        "id": "N_Qpxrd_iCX4",
        "colab_type": "code",
        "colab": {
          "base_uri": "https://localhost:8080/",
          "height": 51
        },
        "outputId": "8dce7833-1e56-47db-ea43-2edf01f4b529"
      },
      "source": [
        "# Importing Math library for value Of PI \n",
        "import math \n",
        "pi = math.pi \n",
        "  \n",
        "# Function to calculate Volume of Cone \n",
        "def volume(r, h): \n",
        "    return (1 / 3) * pi * r * r * h \n",
        "  \n",
        "# Function To Calculate Surface Area of Cone \n",
        "def surfacearea(r, s): \n",
        "    return pi * r * s + pi * r * r \n",
        "radius = float(5) \n",
        "height = float(12) \n",
        "slat_height = float(13) \n",
        "print( \"Volume Of Cone : \", volume(radius, height) ) \n",
        "print( \"Surface Area Of Cone : \", surfacearea(radius, slat_height) ) \n"
      ],
      "execution_count": 7,
      "outputs": [
        {
          "output_type": "stream",
          "text": [
            "Volume Of Cone :  314.15926535897927\n",
            "Surface Area Of Cone :  282.7433388230814\n"
          ],
          "name": "stdout"
        }
      ]
    },
    {
      "cell_type": "markdown",
      "metadata": {
        "id": "bIUIQQd_iRxJ",
        "colab_type": "text"
      },
      "source": [
        "# 5.\tFind the greatest of four nos ( using ‘and’ operator)   using function."
      ]
    },
    {
      "cell_type": "code",
      "metadata": {
        "id": "21iRByJPi6SA",
        "colab_type": "code",
        "colab": {
          "base_uri": "https://localhost:8080/",
          "height": 85
        },
        "outputId": "751120c6-8799-48ed-93ad-d956ef5020d9"
      },
      "source": [
        "num1=int(input(\"Enter the first number: \"));\n",
        "num2=int(input(\"Enter the second number: \"));\n",
        "num3=int(input(\"Enter the Third number: \"));\n",
        "def find_Biggest():      #function definition\n",
        "     if(num1>=num2) and (num1>=num2):\n",
        "         largest=num1\n",
        "     elif(num2>=num1) and (num2>=num3):\n",
        "         largest=num2\n",
        "     else:\n",
        "         largest=num3\n",
        "     print(\"Largest number is\",largest)\n",
        "find_Biggest();   "
      ],
      "execution_count": 8,
      "outputs": [
        {
          "output_type": "stream",
          "text": [
            "Enter the first number: 50\n",
            "Enter the second number: 60\n",
            "Enter the Third number: 20\n",
            "Largest number is 60\n"
          ],
          "name": "stdout"
        }
      ]
    }
  ]
}