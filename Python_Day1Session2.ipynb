{
  "nbformat": 4,
  "nbformat_minor": 0,
  "metadata": {
    "colab": {
      "name": "Python_Day1Session2.ipynb",
      "provenance": [],
      "authorship_tag": "ABX9TyOC0Nptwr93lkyxQmgloXox",
      "include_colab_link": true
    },
    "kernelspec": {
      "name": "python3",
      "display_name": "Python 3"
    }
  },
  "cells": [
    {
      "cell_type": "markdown",
      "metadata": {
        "id": "view-in-github",
        "colab_type": "text"
      },
      "source": [
        "<a href=\"https://colab.research.google.com/github/ritikakulkarni/python_WorkShop1/blob/master/Python_Day1Session2.ipynb\" target=\"_parent\"><img src=\"https://colab.research.google.com/assets/colab-badge.svg\" alt=\"Open In Colab\"/></a>"
      ]
    },
    {
      "cell_type": "markdown",
      "metadata": {
        "id": "cpfGt9vHSCGQ",
        "colab_type": "text"
      },
      "source": [
        "# **Second session 2 programs in google colab **"
      ]
    },
    {
      "cell_type": "code",
      "metadata": {
        "id": "TbiHPzJCSJ00",
        "colab_type": "code",
        "colab": {
          "base_uri": "https://localhost:8080/",
          "height": 68
        },
        "outputId": "35191cf0-9589-4f07-9507-76714f876603"
      },
      "source": [
        "#Python Program to find the factorial of a number using loop. \n",
        "n=int(input(\"Enter number:\"))\n",
        "fact=1\n",
        "\n",
        "while(n>0):\n",
        "      fact=fact*n\n",
        "      n=n-1\n",
        "print(\"Factorial of the number is: \")\n",
        "print(fact)\n"
      ],
      "execution_count": 2,
      "outputs": [
        {
          "output_type": "stream",
          "text": [
            "Enter number:5\n",
            "Factorial of the number is: \n",
            "120\n"
          ],
          "name": "stdout"
        }
      ]
    },
    {
      "cell_type": "markdown",
      "metadata": {
        "id": "znA03qSJSl2y",
        "colab_type": "text"
      },
      "source": [
        "# **#Python Program to reverse a number using loop **"
      ]
    },
    {
      "cell_type": "code",
      "metadata": {
        "id": "OXlafRUtSoLw",
        "colab_type": "code",
        "colab": {
          "base_uri": "https://localhost:8080/",
          "height": 68
        },
        "outputId": "3ddbb08e-e298-4af9-f2ac-3eef53b21cae"
      },
      "source": [
        "#Python Program to reverse a number using loop \n",
        "r=0\n",
        "n=int(input(\"Enter a number: \"))\n",
        "while(n>0):\n",
        "    dig=n%10\n",
        "    r=r*10+dig\n",
        "    n=n//10\n",
        "print(\"The reversed no  is:\")\n",
        "print(r)\n",
        "\n"
      ],
      "execution_count": 4,
      "outputs": [
        {
          "output_type": "stream",
          "text": [
            "Enter a number: 12\n",
            "The reversed no  is:\n",
            "21\n"
          ],
          "name": "stdout"
        }
      ]
    },
    {
      "cell_type": "markdown",
      "metadata": {
        "id": "txpnpTd1YP3r",
        "colab_type": "text"
      },
      "source": [
        "# **#Write a Python program to construct the following pattern, using a nested for loop.**"
      ]
    },
    {
      "cell_type": "code",
      "metadata": {
        "id": "VdzfDbnSYS1g",
        "colab_type": "code",
        "colab": {
          "base_uri": "https://localhost:8080/",
          "height": 442
        },
        "outputId": "26a563fd-d602-454a-8383-7392901f6f32"
      },
      "source": [
        "#Write a Python program to construct the following pattern, using a nested for loop.\n",
        "\n",
        "n=5;\n",
        "for i in range(n):\n",
        "    for j in range(i):\n",
        "      print ('* ', end=\"\")\n",
        "      print('')\n",
        "\n",
        "for i in range(n,0,-1):\n",
        "    for j in range(i):\n",
        "      print('* ', end=\"\")\n",
        "      print('')\n"
      ],
      "execution_count": 14,
      "outputs": [
        {
          "output_type": "stream",
          "text": [
            "* \n",
            "* \n",
            "* \n",
            "* \n",
            "* \n",
            "* \n",
            "* \n",
            "* \n",
            "* \n",
            "* \n",
            "* \n",
            "* \n",
            "* \n",
            "* \n",
            "* \n",
            "* \n",
            "* \n",
            "* \n",
            "* \n",
            "* \n",
            "* \n",
            "* \n",
            "* \n",
            "* \n",
            "* \n"
          ],
          "name": "stdout"
        }
      ]
    },
    {
      "cell_type": "markdown",
      "metadata": {
        "id": "w19kq2CPZJ5C",
        "colab_type": "text"
      },
      "source": [
        "# **#Python Program to replace all occurrences of ‘a’ with ‘$’ in a string. **"
      ]
    },
    {
      "cell_type": "code",
      "metadata": {
        "id": "B21ckHk0ZOO8",
        "colab_type": "code",
        "colab": {
          "base_uri": "https://localhost:8080/",
          "height": 68
        },
        "outputId": "bc557d1b-0efe-4b30-e6c9-4a3d6bae44f0"
      },
      "source": [
        "#Python Program to replace all occurrences of ‘a’ with ‘$’ in a string. \n",
        "string=input(\"Enter string:\")\n",
        "string=string.replace('a','$')\n",
        "string=string.replace('A','$')\n",
        "print(\"Modified string:\")\n",
        "print(string)\n"
      ],
      "execution_count": 15,
      "outputs": [
        {
          "output_type": "stream",
          "text": [
            "Enter string:Ritika\n",
            "Modified string:\n",
            "Ritik$\n"
          ],
          "name": "stdout"
        }
      ]
    },
    {
      "cell_type": "markdown",
      "metadata": {
        "id": "cZ1AIX2rZWow",
        "colab_type": "text"
      },
      "source": [
        "# #Python Program to remove the nth index character from a non-empty string. "
      ]
    },
    {
      "cell_type": "code",
      "metadata": {
        "id": "HhtukW-BZbJA",
        "colab_type": "code",
        "colab": {
          "base_uri": "https://localhost:8080/",
          "height": 248
        },
        "outputId": "1f8ebb33-8b79-4635-e80a-2fcd084db93b"
      },
      "source": [
        "#Python Program to remove the nth index character from a non-empty string. \n",
        "def remove(string, n):  \n",
        "  first = string[:n]   \n",
        "  last = string[n+1:]  \n",
        "  return first + last\n",
        "  string=input(\"Enter the sring:\")\n",
        "n=int(input(\"Enter the index of the character to remove:\"))\n",
        "print(\"Modified string:\")\n",
        "print(remove(string, n))\n"
      ],
      "execution_count": 27,
      "outputs": [
        {
          "output_type": "stream",
          "text": [
            "Enter the index of the character to remove:g\n"
          ],
          "name": "stdout"
        },
        {
          "output_type": "error",
          "ename": "ValueError",
          "evalue": "ignored",
          "traceback": [
            "\u001b[0;31m---------------------------------------------------------------------------\u001b[0m",
            "\u001b[0;31mValueError\u001b[0m                                Traceback (most recent call last)",
            "\u001b[0;32m<ipython-input-27-34a538deb16c>\u001b[0m in \u001b[0;36m<module>\u001b[0;34m()\u001b[0m\n\u001b[1;32m      5\u001b[0m   \u001b[0;32mreturn\u001b[0m \u001b[0mfirst\u001b[0m \u001b[0;34m+\u001b[0m \u001b[0mlast\u001b[0m\u001b[0;34m\u001b[0m\u001b[0;34m\u001b[0m\u001b[0m\n\u001b[1;32m      6\u001b[0m   \u001b[0mstring\u001b[0m\u001b[0;34m=\u001b[0m\u001b[0minput\u001b[0m\u001b[0;34m(\u001b[0m\u001b[0;34m\"Enter the sring:\"\u001b[0m\u001b[0;34m)\u001b[0m\u001b[0;34m\u001b[0m\u001b[0;34m\u001b[0m\u001b[0m\n\u001b[0;32m----> 7\u001b[0;31m \u001b[0mn\u001b[0m\u001b[0;34m=\u001b[0m\u001b[0mint\u001b[0m\u001b[0;34m(\u001b[0m\u001b[0minput\u001b[0m\u001b[0;34m(\u001b[0m\u001b[0;34m\"Enter the index of the character to remove:\"\u001b[0m\u001b[0;34m)\u001b[0m\u001b[0;34m)\u001b[0m\u001b[0;34m\u001b[0m\u001b[0;34m\u001b[0m\u001b[0m\n\u001b[0m\u001b[1;32m      8\u001b[0m \u001b[0mprint\u001b[0m\u001b[0;34m(\u001b[0m\u001b[0;34m\"Modified string:\"\u001b[0m\u001b[0;34m)\u001b[0m\u001b[0;34m\u001b[0m\u001b[0;34m\u001b[0m\u001b[0m\n\u001b[1;32m      9\u001b[0m \u001b[0mprint\u001b[0m\u001b[0;34m(\u001b[0m\u001b[0mremove\u001b[0m\u001b[0;34m(\u001b[0m\u001b[0mstring\u001b[0m\u001b[0;34m,\u001b[0m \u001b[0mn\u001b[0m\u001b[0;34m)\u001b[0m\u001b[0;34m)\u001b[0m\u001b[0;34m\u001b[0m\u001b[0;34m\u001b[0m\u001b[0m\n",
            "\u001b[0;31mValueError\u001b[0m: invalid literal for int() with base 10: 'g'"
          ]
        }
      ]
    },
    {
      "cell_type": "markdown",
      "metadata": {
        "id": "xidwpVvKaQpA",
        "colab_type": "text"
      },
      "source": [
        "# ***#Python Program to detect if two strings are anagrams. ***"
      ]
    },
    {
      "cell_type": "code",
      "metadata": {
        "id": "XhXGQokPaWob",
        "colab_type": "code",
        "colab": {
          "base_uri": "https://localhost:8080/",
          "height": 68
        },
        "outputId": "2e9f9b65-6eca-4a2a-e759-ef2e257a6031"
      },
      "source": [
        "#Python Program to detect if two strings are anagrams. \n",
        "s1=input(\"Enter first string:\")\n",
        "s2=input(\"Enter second string:\")\n",
        "if(sorted(s1)==sorted(s2)):\n",
        "   print(\"The strings are anagrams.\")\n",
        "else:\n",
        "   print(\"The strings aren't anagrams.\")\n"
      ],
      "execution_count": 28,
      "outputs": [
        {
          "output_type": "stream",
          "text": [
            "Enter first string:Ritika\n",
            "Enter second string:kulkarni\n",
            "The strings aren't anagrams.\n"
          ],
          "name": "stdout"
        }
      ]
    },
    {
      "cell_type": "markdown",
      "metadata": {
        "id": "S9UsH3lRa1b7",
        "colab_type": "text"
      },
      "source": [
        "# **#Python Program to form a string where the first character and the last character have been exchanged. **"
      ]
    },
    {
      "cell_type": "code",
      "metadata": {
        "id": "k-aMBa7ra7V6",
        "colab_type": "code",
        "colab": {
          "base_uri": "https://localhost:8080/",
          "height": 68
        },
        "outputId": "8c9b0a07-913d-478b-be59-50cacc48a882"
      },
      "source": [
        "#Python Program to form a string where the first character and the last character have been exchanged. \n",
        "def change(string):\n",
        "    return string[-1:] + string[1:-1] + string[:1]\n",
        "string=input(\"Enter string:\")\n",
        "print(\"Modified string:\")\n",
        "print(change(string))\n"
      ],
      "execution_count": 30,
      "outputs": [
        {
          "output_type": "stream",
          "text": [
            "Enter string:ritika\n",
            "Modified string:\n",
            "aitikr\n"
          ],
          "name": "stdout"
        }
      ]
    },
    {
      "cell_type": "code",
      "metadata": {
        "id": "rwKNenTdcLlZ",
        "colab_type": "code",
        "colab": {}
      },
      "source": [
        "\n"
      ],
      "execution_count": null,
      "outputs": []
    },
    {
      "cell_type": "markdown",
      "metadata": {
        "id": "-1vw5e3obtOa",
        "colab_type": "text"
      },
      "source": [
        "# ***#Python Program to  count number of vowels from a non-empty string. ***"
      ]
    },
    {
      "cell_type": "code",
      "metadata": {
        "id": "95vZMB5qbw-f",
        "colab_type": "code",
        "colab": {
          "base_uri": "https://localhost:8080/",
          "height": 136
        },
        "outputId": "9e8d8d97-ce90-4921-85ad-da6ed645f49d"
      },
      "source": [
        "#Python Program to  count number of vowels from a non-empty string. \n",
        "string=input(\"Enter string:\")\n",
        "vowels=0\n",
        "for i in string:\n",
        "    if(i=='a' or i=='e' or i=='i' or i=='o' or i=='u' or i=='A' or i=='E' or i=='I' or i=='O' or i=='U'):\n",
        "        vowels=vowels+1\n",
        "        print(\"Number of vowels are:\")\n",
        "        print(vowels)\n"
      ],
      "execution_count": 33,
      "outputs": [
        {
          "output_type": "stream",
          "text": [
            "Enter string:Ritika\n",
            "Number of vowels are:\n",
            "1\n",
            "Number of vowels are:\n",
            "2\n",
            "Number of vowels are:\n",
            "3\n"
          ],
          "name": "stdout"
        }
      ]
    },
    {
      "cell_type": "markdown",
      "metadata": {
        "id": "pT2h9f6AcPiT",
        "colab_type": "text"
      },
      "source": [
        "# **#Program for Divide by zero error detection**"
      ]
    },
    {
      "cell_type": "code",
      "metadata": {
        "id": "ev1Oi75GcUtY",
        "colab_type": "code",
        "colab": {
          "base_uri": "https://localhost:8080/",
          "height": 238
        },
        "outputId": "712ebfee-9625-4f60-c9d7-15952b63dd48"
      },
      "source": [
        "#Program for Divide by zero error detection\n",
        "flag = True\n",
        "\n",
        "def div(a, b):  \n",
        "  try:\n",
        "    print(\"Finally the division of %d/%d is %f\" % (a, b,a/b))\n",
        "    global flag\n",
        "    flag=False\n",
        "  except ZeroDivisionError:\n",
        "      print(\"Zero Division Error detected\")\n",
        "  else:\n",
        "      print(\"Division is successful\") \n",
        "  finally:\n",
        "    if flag is True:\n",
        "      print(\"Try again\")     \n",
        "    else:\n",
        "      print(\"Thank you\")\n",
        "\n",
        "#global flag\n",
        "\n",
        "while flag is True:\n",
        "      div(int(input(\"Enter numerator\")),int(input(\"Enter denominator\")))\n"
      ],
      "execution_count": 41,
      "outputs": [
        {
          "output_type": "stream",
          "text": [
            "Enter numerator9\n",
            "Enter denominator0\n",
            "Zero Division Error detected\n",
            "Try again\n",
            "Enter numerator7\n",
            "Enter denominator0\n",
            "Zero Division Error detected\n",
            "Try again\n",
            "Enter numerator5\n",
            "Enter denominator6\n",
            "Finally the division of 5/6 is 0.833333\n",
            "Division is successful\n",
            "Thank you\n"
          ],
          "name": "stdout"
        }
      ]
    },
    {
      "cell_type": "markdown",
      "metadata": {
        "id": "b71nvGmXdtJM",
        "colab_type": "text"
      },
      "source": [
        "# **#Program for ValueError error detection**"
      ]
    },
    {
      "cell_type": "code",
      "metadata": {
        "id": "7uJa2chrdx8E",
        "colab_type": "code",
        "colab": {
          "base_uri": "https://localhost:8080/",
          "height": 51
        },
        "outputId": "77d315c0-82e7-4470-dc4e-a1c4c3185c6b"
      },
      "source": [
        "#Program for ValueError error detection\n",
        "\n",
        "while True:\n",
        "  try:\n",
        "    x = int(input(\"Please enter a number: \"))\n",
        "    print(\" That was valid number. Thank you\")\n",
        "    break\n",
        "  except ValueError:\n",
        "    print(\"Oops!  That was no valid number.  Try again...\")\n"
      ],
      "execution_count": 43,
      "outputs": [
        {
          "output_type": "stream",
          "text": [
            "Please enter a number: 10\n",
            " That was valid number. Thank you\n"
          ],
          "name": "stdout"
        }
      ]
    }
  ]
}