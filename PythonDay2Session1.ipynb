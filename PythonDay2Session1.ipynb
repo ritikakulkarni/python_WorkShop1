{
  "nbformat": 4,
  "nbformat_minor": 0,
  "metadata": {
    "colab": {
      "name": "PythonDay2Session1.ipynb",
      "provenance": [],
      "authorship_tag": "ABX9TyMGKM0aZwkDe9lO8SIPKKyS",
      "include_colab_link": true
    },
    "kernelspec": {
      "name": "python3",
      "display_name": "Python 3"
    }
  },
  "cells": [
    {
      "cell_type": "markdown",
      "metadata": {
        "id": "view-in-github",
        "colab_type": "text"
      },
      "source": [
        "<a href=\"https://colab.research.google.com/github/ritikakulkarni/python_WorkShop1/blob/master/PythonDay2Session1.ipynb\" target=\"_parent\"><img src=\"https://colab.research.google.com/assets/colab-badge.svg\" alt=\"Open In Colab\"/></a>"
      ]
    },
    {
      "cell_type": "markdown",
      "metadata": {
        "id": "I8xMTxKTCL-w",
        "colab_type": "text"
      },
      "source": [
        "# **#Program to find the largest number in a list.**"
      ]
    },
    {
      "cell_type": "code",
      "metadata": {
        "id": "JWidbnguC_V4",
        "colab_type": "code",
        "colab": {
          "base_uri": "https://localhost:8080/",
          "height": 136
        },
        "outputId": "8167d352-6591-4470-928c-a03e5b50b793"
      },
      "source": [
        "a=[]\n",
        "n=int(input(\"Enter number of elements:\"))\n",
        "for i in range(1,n+1):\n",
        "  b=int(input(\"Enter element:\"))\n",
        "  a.append(b)\n",
        "  a.sort()\n",
        "  print(\"Largest element is:\",a[n-1])\n",
        "\n",
        "x=0\n",
        "print('The greatest no is',max([int(input(x)) for _ in range(int(input(\"Enter no\")))]))\n"
      ],
      "execution_count": 6,
      "outputs": [
        {
          "output_type": "stream",
          "text": [
            "Enter number of elements:1\n",
            "Enter element:2\n",
            "Largest element is: 2\n",
            "Enter no2\n",
            "1\n",
            "2\n",
            "The greatest no is 2\n"
          ],
          "name": "stdout"
        }
      ]
    },
    {
      "cell_type": "markdown",
      "metadata": {
        "id": "nMCdZTT8D4OM",
        "colab_type": "text"
      },
      "source": [
        "# #Python Program to put the even and odd elements in a list into two different lists. "
      ]
    },
    {
      "cell_type": "code",
      "metadata": {
        "id": "a5qIIg6MD6ET",
        "colab_type": "code",
        "colab": {
          "base_uri": "https://localhost:8080/",
          "height": 306
        },
        "outputId": "54e6579a-e3e0-42ff-b601-6742ca603403"
      },
      "source": [
        "#Python Program to put the even and odd elements in a list into two different lists. \n",
        "a=[]\n",
        "n=int(input(\"Enter number of elements:\"))\n",
        "for i in range(1,n+1):\n",
        "  b=int(input(\"Enter element:\"))\n",
        "  a.append(b)\n",
        "  even=[]\n",
        "  odd=[]\n",
        "  for j in a:\n",
        "    if(j%2==0):\n",
        "      even.append(j)\n",
        "    else:\n",
        "      odd.append(j)\n",
        "      print(\"The even list\",even)\n",
        "      print(\"The odd list\",odd)\n",
        "#Instead of  forementioned 14 lines program, the equivalent 4 lines ! \n",
        "#Pythonic program is here ....\n",
        "\n",
        "x=0\n",
        "l=[int(input(x)) for _ in range(int(input(\"Enter n\")))]\n",
        "print('even list is',[ i for i in l if i%2])\n",
        "print('odd list is',[i for i in l if not i%2])\n"
      ],
      "execution_count": 12,
      "outputs": [
        {
          "output_type": "stream",
          "text": [
            "Enter number of elements:3\n",
            "Enter element:1\n",
            "The even list []\n",
            "The odd list [1]\n",
            "Enter element:2\n",
            "The even list []\n",
            "The odd list [1]\n",
            "Enter element:3\n",
            "The even list []\n",
            "The odd list [1]\n",
            "The even list [2]\n",
            "The odd list [1, 3]\n",
            "Enter n2\n",
            "1\n",
            "2\n",
            "even list is [1]\n",
            "odd list is [2]\n"
          ],
          "name": "stdout"
        }
      ]
    },
    {
      "cell_type": "markdown",
      "metadata": {
        "id": "e8qB3YmSEgV6",
        "colab_type": "text"
      },
      "source": [
        "# #Python Program to merge two lists and sort it."
      ]
    },
    {
      "cell_type": "code",
      "metadata": {
        "id": "R16a2XHOEkFw",
        "colab_type": "code",
        "colab": {
          "base_uri": "https://localhost:8080/",
          "height": 374
        },
        "outputId": "365606ba-114d-4e8d-efc1-9e76aadf0906"
      },
      "source": [
        "#Python Program to merge two lists and sort it.\n",
        "a=[]\n",
        "c=[]\n",
        "n1=int(input(\"Enter number of elements:\"))\n",
        "for i in range(1,n1+1):\n",
        "  b=int(input(\"Enter element:\"))\n",
        "  a.append(b)\n",
        "  n2=int(input(\"Enter number of elements:\"))\n",
        "  for i in range(1,n2+1):\n",
        "    d=int(input(\"Enter element:\"))\n",
        "    c.append(d)\n",
        "    new=a+c\n",
        "    new.sort()\n",
        "    print(\"Sorted list is:\",new)\n",
        "#Instead of  forementioned 13 lines program, the equivalent 5 lines !\n",
        "# Pythonic program is here ....\n",
        "\n",
        "x=0\n",
        "l=[int(input(x)) for _ in range(int(input(\"Enter how many elements\")))]\n",
        "m=[int(input(x)) for _ in range(int(input(\"Enter how many elements \")))]\n",
        "new=l+m\n",
        "new.sort()\n",
        "print(\"Sorted list is:\",new)\n",
        "\n"
      ],
      "execution_count": 17,
      "outputs": [
        {
          "output_type": "stream",
          "text": [
            "Enter number of elements:2\n",
            "Enter element:3\n",
            "Enter number of elements:1\n",
            "Enter element:4\n",
            "Sorted list is: [3, 4]\n",
            "Enter element:2\n",
            "Enter number of elements:3\n",
            "Enter element:4\n",
            "Sorted list is: [2, 3, 4, 4]\n",
            "Enter element:1\n",
            "Sorted list is: [1, 2, 3, 4, 4]\n",
            "Enter element:2\n",
            "Sorted list is: [1, 2, 2, 3, 4, 4]\n",
            "Enter how many elements3\n",
            "1\n",
            "2\n",
            "3\n",
            "Enter how many elements 2\n",
            "5\n",
            "2\n",
            "Sorted list is: [1, 2, 2, 3, 5]\n"
          ],
          "name": "stdout"
        }
      ]
    },
    {
      "cell_type": "markdown",
      "metadata": {
        "id": "CfmieaAmFqTL",
        "colab_type": "text"
      },
      "source": [
        "# #Python Program to sort the list according to the second element in the sublist."
      ]
    },
    {
      "cell_type": "code",
      "metadata": {
        "id": "cfOQoHs3FuKC",
        "colab_type": "code",
        "colab": {
          "base_uri": "https://localhost:8080/",
          "height": 85
        },
        "outputId": "9241c2d2-16ee-4458-886d-53133ab6c187"
      },
      "source": [
        "#Python Program to sort the list according to the second element in the sublist.\n",
        "a=[['A',34],['B',21],['C',26],['E',29]]\n",
        "for i in range(0,len(a)):\n",
        "  for j in range(i+1,len(a)):\n",
        "    if(a[i][1]>a[j][1]):\n",
        "      temp=a[j]\n",
        "      a[j]=a[i]\n",
        "      a[i]=temp\n",
        "      print(a)\n",
        "\n",
        "#Instead of  forementioned 8 lines program, the equivalent 3 lines ! \n",
        "#Pythonic program is here ....\n",
        "\n",
        "a=[['A',34],['B',21],['C',26],['E',29]]\n",
        "a.sort(key = lambda x: x[1]) \n",
        "print(a)\n"
      ],
      "execution_count": 20,
      "outputs": [
        {
          "output_type": "stream",
          "text": [
            "[['B', 21], ['A', 34], ['C', 26], ['E', 29]]\n",
            "[['B', 21], ['C', 26], ['A', 34], ['E', 29]]\n",
            "[['B', 21], ['C', 26], ['E', 29], ['A', 34]]\n",
            "[['B', 21], ['C', 26], ['E', 29], ['A', 34]]\n"
          ],
          "name": "stdout"
        }
      ]
    },
    {
      "cell_type": "markdown",
      "metadata": {
        "id": "oCnz-6xgGAIb",
        "colab_type": "text"
      },
      "source": [
        "# #Python Program to find the second largest number in a list "
      ]
    },
    {
      "cell_type": "code",
      "metadata": {
        "id": "Y9YGSToBGEFq",
        "colab_type": "code",
        "colab": {
          "base_uri": "https://localhost:8080/",
          "height": 170
        },
        "outputId": "60ee6d9d-2c4f-4ac0-ba61-bf6aff1e49bc"
      },
      "source": [
        "#Python Program to find the second largest number in a list \n",
        "a=[]\n",
        "n=int(input(\"Enter number of elements:\"))\n",
        "for i in range(1,n+1):\n",
        "  b=int(input(\"Enter element:\"))\n",
        "  a.append(b)\n",
        "  for i in range(0,len(a)):\n",
        "      for j in range(0,len(a)-i-1):\n",
        "        if(a[j]>a[j+1]):\n",
        "          temp=a[j]\n",
        "          a[j]=a[j+1]\n",
        "          a[j+1]=temp \n",
        "          print('Second largest number is:',a[n-2])\n",
        "#Instead of  forementioned 12 lines program, the equivalent 4 lines ! \n",
        "#Pythonic program is here ....\n",
        "\n",
        "x=0\n",
        "l=[int(input(x)) for _ in range(int(input(\"Enter how many elements\")))]\n",
        "l.sort()\n",
        "print(\"Second largest element is :\",l[-2])\n"
      ],
      "execution_count": 23,
      "outputs": [
        {
          "output_type": "stream",
          "text": [
            "Enter number of elements:4\n",
            "Enter element:2\n",
            "Enter element:3\n",
            "Enter element:5\n",
            "Enter element:6\n",
            "Enter how many elements2\n",
            "11\n",
            "12\n",
            "Second largest element is : 11\n"
          ],
          "name": "stdout"
        }
      ]
    },
    {
      "cell_type": "markdown",
      "metadata": {
        "id": "y8PBIBioGiQi",
        "colab_type": "text"
      },
      "source": [
        "# #Program to create a list of tuples with the first element as the number and the second element as the square of the number. "
      ]
    },
    {
      "cell_type": "code",
      "metadata": {
        "id": "kJfpKFrQGmP4",
        "colab_type": "code",
        "colab": {
          "base_uri": "https://localhost:8080/",
          "height": 190
        },
        "outputId": "60685f7d-8de2-420f-91cd-99d98b11ae7e"
      },
      "source": [
        "#Program to create a list of tuples with the first element as the number and the second element as the square of the number. \n",
        "l_range=int(input(\"Enter the lower range:\"))\n",
        "u_range=int(input(\"Enter the upper range:\"))\n",
        "a=[(x,x**2) for x in range(l_range,u_range+1)]\n",
        "print(a)\n",
        "#The aforementioned program is already pythonic. \n",
        "#We can still make it more pythonic as follows \n",
        "\n",
        "a=[(x,x**2) for x in range(int(input(\"Enter the lower range:\")),\\\n",
        "int(input(\"Enter the upper range:\"))+1)]\n",
        "print(a)\n",
        "\n",
        "# Of course, We can write in the most pythonic way with one line ! as follows\n",
        "\n",
        "print([(x,x**2) for x in range(int(input(\"Enter the lower range:\")),\\\n",
        "int(input(\"Enter the upper range:\"))+1)])\n"
      ],
      "execution_count": 24,
      "outputs": [
        {
          "output_type": "stream",
          "text": [
            "Enter the lower range:20\n",
            "Enter the upper range:40\n",
            "[(20, 400), (21, 441), (22, 484), (23, 529), (24, 576), (25, 625), (26, 676), (27, 729), (28, 784), (29, 841), (30, 900), (31, 961), (32, 1024), (33, 1089), (34, 1156), (35, 1225), (36, 1296), (37, 1369), (38, 1444), (39, 1521), (40, 1600)]\n",
            "Enter the lower range:20\n",
            "Enter the upper range:30\n",
            "[(20, 400), (21, 441), (22, 484), (23, 529), (24, 576), (25, 625), (26, 676), (27, 729), (28, 784), (29, 841), (30, 900)]\n",
            "Enter the lower range:10\n",
            "Enter the upper range:20\n",
            "[(10, 100), (11, 121), (12, 144), (13, 169), (14, 196), (15, 225), (16, 256), (17, 289), (18, 324), (19, 361), (20, 400)]\n"
          ],
          "name": "stdout"
        }
      ]
    },
    {
      "cell_type": "markdown",
      "metadata": {
        "id": "2QLByyuCG2Yg",
        "colab_type": "text"
      },
      "source": [
        "# #Python Program to generate random numbers from 1 to 20 and append them to the list."
      ]
    },
    {
      "cell_type": "code",
      "metadata": {
        "id": "9vAoeyJ5G5yL",
        "colab_type": "code",
        "colab": {
          "base_uri": "https://localhost:8080/",
          "height": 102
        },
        "outputId": "f12c5589-1923-4f6b-b46e-ebe1385bc378"
      },
      "source": [
        "#Python Program to generate random numbers from 1 to 20 and append them to the list.\n",
        "\n",
        "import random\n",
        "a=[]\n",
        "n=int(input(\"Enter number of elements:\"))\n",
        "for j in range(n):\n",
        "  a.append(random.randint(1,20))\n",
        "  print('Randomised list is: ',a)\n"
      ],
      "execution_count": 26,
      "outputs": [
        {
          "output_type": "stream",
          "text": [
            "Enter number of elements:4\n",
            "Randomised list is:  [20]\n",
            "Randomised list is:  [20, 14]\n",
            "Randomised list is:  [20, 14, 5]\n",
            "Randomised list is:  [20, 14, 5, 14]\n"
          ],
          "name": "stdout"
        }
      ]
    }
  ]
}