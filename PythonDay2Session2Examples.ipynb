{
  "nbformat": 4,
  "nbformat_minor": 0,
  "metadata": {
    "colab": {
      "name": "PythonDay2Session2Examples.ipynb",
      "provenance": [],
      "collapsed_sections": [],
      "authorship_tag": "ABX9TyNR/BC1NS9I+heUqIDuhQnj",
      "include_colab_link": true
    },
    "kernelspec": {
      "name": "python3",
      "display_name": "Python 3"
    }
  },
  "cells": [
    {
      "cell_type": "markdown",
      "metadata": {
        "id": "view-in-github",
        "colab_type": "text"
      },
      "source": [
        "<a href=\"https://colab.research.google.com/github/ritikakulkarni/python_WorkShop1/blob/master/PythonDay2Session2Examples.ipynb\" target=\"_parent\"><img src=\"https://colab.research.google.com/assets/colab-badge.svg\" alt=\"Open In Colab\"/></a>"
      ]
    },
    {
      "cell_type": "markdown",
      "metadata": {
        "id": "hddorNRdY5Nh",
        "colab_type": "text"
      },
      "source": [
        "# Dictionary Worked out Examples\n",
        "\n",
        "#dict.clear()\n",
        "#Removes all elements of dictionary dict\n"
      ]
    },
    {
      "cell_type": "code",
      "metadata": {
        "id": "NnkL_HoNY9uC",
        "colab_type": "code",
        "colab": {
          "base_uri": "https://localhost:8080/",
          "height": 51
        },
        "outputId": "07f6b3db-c828-4b9d-a39d-87a41cd22cf3"
      },
      "source": [
        "#dict.clear()\n",
        "#Removes all elements of dictionary dict\n",
        "\n",
        "dict = {'Name': 'Zara', 'Age': 7};\n",
        "print(\"Start Len : %d\" %  len(dict))\n",
        "dict.clear()\n",
        "print(\"End Len : %d\" %  len(dict))\n"
      ],
      "execution_count": 1,
      "outputs": [
        {
          "output_type": "stream",
          "text": [
            "Start Len : 2\n",
            "End Len : 0\n"
          ],
          "name": "stdout"
        }
      ]
    },
    {
      "cell_type": "markdown",
      "metadata": {
        "id": "crs5Rx0BZJ-8",
        "colab_type": "text"
      },
      "source": [
        "Python Program to Sum All the Items in a Dictionary "
      ]
    },
    {
      "cell_type": "code",
      "metadata": {
        "id": "6LvqnguSZQjG",
        "colab_type": "code",
        "colab": {
          "base_uri": "https://localhost:8080/",
          "height": 51
        },
        "outputId": "bdf8d93c-c10f-4ffc-eaf4-ac5ec1804548"
      },
      "source": [
        "d={'A':100,'B':540,'C':239}\n",
        "print(\"Total sum of values in the dictionary:\")\n",
        "print(sum(d.values()))\n"
      ],
      "execution_count": 2,
      "outputs": [
        {
          "output_type": "stream",
          "text": [
            "Total sum of values in the dictionary:\n",
            "879\n"
          ],
          "name": "stdout"
        }
      ]
    },
    {
      "cell_type": "markdown",
      "metadata": {
        "id": "K7AAdpWAZVKd",
        "colab_type": "text"
      },
      "source": [
        "# Python Program to Remove the Given Key from a Dictionary "
      ]
    },
    {
      "cell_type": "code",
      "metadata": {
        "id": "n30kG8D9ZYQ-",
        "colab_type": "code",
        "colab": {
          "base_uri": "https://localhost:8080/",
          "height": 68
        },
        "outputId": "9a9b0d10-8b4b-476a-d89c-4fa18b31b47a"
      },
      "source": [
        "d = {'a':1,'b':2,'c':3,'d':4}\n",
        "print(\"Initial dictionary\")\n",
        "print(d)\n",
        "key=input(\"Enter the key to delete(a-d):\")\n",
        "if key in d: \n",
        "  del d[key]\n",
        "else:\n",
        "  print(\"Key not found!\")\n",
        "  exit(0)\n",
        "  print(\"Updated dictionary\")\n",
        "  print(d)\n"
      ],
      "execution_count": 4,
      "outputs": [
        {
          "output_type": "stream",
          "text": [
            "Initial dictionary\n",
            "{'a': 1, 'b': 2, 'c': 3, 'd': 4}\n",
            "Enter the key to delete(a-d):c\n"
          ],
          "name": "stdout"
        }
      ]
    },
    {
      "cell_type": "markdown",
      "metadata": {
        "id": "lFWN_-hkZkZT",
        "colab_type": "text"
      },
      "source": [
        "# Python Program to add name and mark as key->value pair in  a Dictionary and print it."
      ]
    },
    {
      "cell_type": "code",
      "metadata": {
        "id": "c3F9IpZMaCGv",
        "colab_type": "code",
        "colab": {
          "base_uri": "https://localhost:8080/",
          "height": 136
        },
        "outputId": "77501791-0b34-4f1e-e17a-d2e605c8fd8c"
      },
      "source": [
        "n=int(input(\"Enter no of records\"))\n",
        "d={}\n",
        "for i in range(1,n+1):\n",
        "  name= input(\"Enter name %d\"%(i))\n",
        "  mark=int(input(\"Enter mark %d\"%(i)))\n",
        "  d[name]=mark\n",
        "  print (d)\n"
      ],
      "execution_count": 8,
      "outputs": [
        {
          "output_type": "stream",
          "text": [
            "Enter no of records2\n",
            "Enter name 1fbjg\n",
            "Enter mark 110\n",
            "{'fbjg': 10}\n",
            "Enter name 2bnbj\n",
            "Enter mark 220\n",
            "{'fbjg': 10, 'bnbj': 20}\n"
          ],
          "name": "stdout"
        }
      ]
    },
    {
      "cell_type": "markdown",
      "metadata": {
        "id": "-oYXScoKbcKs",
        "colab_type": "text"
      },
      "source": [
        "## Keys and Values example"
      ]
    },
    {
      "cell_type": "code",
      "metadata": {
        "id": "H8yZpZMybfwg",
        "colab_type": "code",
        "colab": {
          "base_uri": "https://localhost:8080/",
          "height": 1000
        },
        "outputId": "2db1b402-419a-4549-9ca6-188aa00d0e79"
      },
      "source": [
        "# Keys and Values example\n",
        "d={}\n",
        "print (\" The dictionary elements are\")\n",
        "for i in range(1,21):\n",
        "  d[i]=i**2\n",
        "  print (d)\n",
        "# To print key and values\n",
        "print (\" Key==> Value are\")\n",
        "for (k,v) in d.items():\t\n",
        "      print(k,\"==>\",v)\n",
        "# To print key only\n",
        "      print (\"\\nTo print key only\")\n",
        "      for k in d.keys():\t\n",
        "        print(k, end=\"\")\n",
        "#To print value only\n",
        "print (\"\\nTo print values only\")\n",
        "for v in d.values():\t\n",
        "            print(v, end=\"\")\n"
      ],
      "execution_count": 12,
      "outputs": [
        {
          "output_type": "stream",
          "text": [
            " The dictionary elements are\n",
            "{1: 1}\n",
            "{1: 1, 2: 4}\n",
            "{1: 1, 2: 4, 3: 9}\n",
            "{1: 1, 2: 4, 3: 9, 4: 16}\n",
            "{1: 1, 2: 4, 3: 9, 4: 16, 5: 25}\n",
            "{1: 1, 2: 4, 3: 9, 4: 16, 5: 25, 6: 36}\n",
            "{1: 1, 2: 4, 3: 9, 4: 16, 5: 25, 6: 36, 7: 49}\n",
            "{1: 1, 2: 4, 3: 9, 4: 16, 5: 25, 6: 36, 7: 49, 8: 64}\n",
            "{1: 1, 2: 4, 3: 9, 4: 16, 5: 25, 6: 36, 7: 49, 8: 64, 9: 81}\n",
            "{1: 1, 2: 4, 3: 9, 4: 16, 5: 25, 6: 36, 7: 49, 8: 64, 9: 81, 10: 100}\n",
            "{1: 1, 2: 4, 3: 9, 4: 16, 5: 25, 6: 36, 7: 49, 8: 64, 9: 81, 10: 100, 11: 121}\n",
            "{1: 1, 2: 4, 3: 9, 4: 16, 5: 25, 6: 36, 7: 49, 8: 64, 9: 81, 10: 100, 11: 121, 12: 144}\n",
            "{1: 1, 2: 4, 3: 9, 4: 16, 5: 25, 6: 36, 7: 49, 8: 64, 9: 81, 10: 100, 11: 121, 12: 144, 13: 169}\n",
            "{1: 1, 2: 4, 3: 9, 4: 16, 5: 25, 6: 36, 7: 49, 8: 64, 9: 81, 10: 100, 11: 121, 12: 144, 13: 169, 14: 196}\n",
            "{1: 1, 2: 4, 3: 9, 4: 16, 5: 25, 6: 36, 7: 49, 8: 64, 9: 81, 10: 100, 11: 121, 12: 144, 13: 169, 14: 196, 15: 225}\n",
            "{1: 1, 2: 4, 3: 9, 4: 16, 5: 25, 6: 36, 7: 49, 8: 64, 9: 81, 10: 100, 11: 121, 12: 144, 13: 169, 14: 196, 15: 225, 16: 256}\n",
            "{1: 1, 2: 4, 3: 9, 4: 16, 5: 25, 6: 36, 7: 49, 8: 64, 9: 81, 10: 100, 11: 121, 12: 144, 13: 169, 14: 196, 15: 225, 16: 256, 17: 289}\n",
            "{1: 1, 2: 4, 3: 9, 4: 16, 5: 25, 6: 36, 7: 49, 8: 64, 9: 81, 10: 100, 11: 121, 12: 144, 13: 169, 14: 196, 15: 225, 16: 256, 17: 289, 18: 324}\n",
            "{1: 1, 2: 4, 3: 9, 4: 16, 5: 25, 6: 36, 7: 49, 8: 64, 9: 81, 10: 100, 11: 121, 12: 144, 13: 169, 14: 196, 15: 225, 16: 256, 17: 289, 18: 324, 19: 361}\n",
            "{1: 1, 2: 4, 3: 9, 4: 16, 5: 25, 6: 36, 7: 49, 8: 64, 9: 81, 10: 100, 11: 121, 12: 144, 13: 169, 14: 196, 15: 225, 16: 256, 17: 289, 18: 324, 19: 361, 20: 400}\n",
            " Key==> Value are\n",
            "1 ==> 1\n",
            "\n",
            "To print key only\n",
            "12345678910111213141516171819202 ==> 4\n",
            "\n",
            "To print key only\n",
            "12345678910111213141516171819203 ==> 9\n",
            "\n",
            "To print key only\n",
            "12345678910111213141516171819204 ==> 16\n",
            "\n",
            "To print key only\n",
            "12345678910111213141516171819205 ==> 25\n",
            "\n",
            "To print key only\n",
            "12345678910111213141516171819206 ==> 36\n",
            "\n",
            "To print key only\n",
            "12345678910111213141516171819207 ==> 49\n",
            "\n",
            "To print key only\n",
            "12345678910111213141516171819208 ==> 64\n",
            "\n",
            "To print key only\n",
            "12345678910111213141516171819209 ==> 81\n",
            "\n",
            "To print key only\n",
            "123456789101112131415161718192010 ==> 100\n",
            "\n",
            "To print key only\n",
            "123456789101112131415161718192011 ==> 121\n",
            "\n",
            "To print key only\n",
            "123456789101112131415161718192012 ==> 144\n",
            "\n",
            "To print key only\n",
            "123456789101112131415161718192013 ==> 169\n",
            "\n",
            "To print key only\n",
            "123456789101112131415161718192014 ==> 196\n",
            "\n",
            "To print key only\n",
            "123456789101112131415161718192015 ==> 225\n",
            "\n",
            "To print key only\n",
            "123456789101112131415161718192016 ==> 256\n",
            "\n",
            "To print key only\n",
            "123456789101112131415161718192017 ==> 289\n",
            "\n",
            "To print key only\n",
            "123456789101112131415161718192018 ==> 324\n",
            "\n",
            "To print key only\n",
            "123456789101112131415161718192019 ==> 361\n",
            "\n",
            "To print key only\n",
            "123456789101112131415161718192020 ==> 400\n",
            "\n",
            "To print key only\n",
            "1234567891011121314151617181920\n",
            "To print values only\n",
            "149162536496481100121144169196225256289324361400"
          ],
          "name": "stdout"
        }
      ]
    },
    {
      "cell_type": "markdown",
      "metadata": {
        "id": "rK7tROa0b1o1",
        "colab_type": "text"
      },
      "source": [
        "# Python program to convert 2 digit number  into words"
      ]
    },
    {
      "cell_type": "code",
      "metadata": {
        "id": "K0JJ0P3Gb7-k",
        "colab_type": "code",
        "colab": {
          "base_uri": "https://localhost:8080/",
          "height": 34
        },
        "outputId": "56e92f1e-cc36-4889-e6da-13a6a6928eb2"
      },
      "source": [
        "d={0:'',1:'one',2:'two',3:'three',4:'four',5:'five',6:'six',7:'seven',8:'eight',9:'nine',\\\n",
        "10:'ten',11:'eleven',12:'twelve',13:'thirteen',14:'fourteen',15:'fifteen',16:'sixteen',\\\n",
        "17:'seventeen',18:'eightteen',19:'nineteen',20:'twenty',30:'thirty',40:'fourty',50:'fifty',\\\n",
        "60:'sixty',70:'seventy',80:'eighty',90:'ninty'}\n",
        "\n",
        "num=int(input(\"Enter the integer between 1 to 99:\"))\n",
        "if (num<=20):\n",
        "  print(d[num])\n",
        "  if(num>20 and num<100):\n",
        "      if num%10==0:       \n",
        "        print(d[num])\n",
        "      else:\n",
        "        print(d[num//10*10]+\"\"+d[num%10])\n",
        "\n"
      ],
      "execution_count": 15,
      "outputs": [
        {
          "output_type": "stream",
          "text": [
            "Enter the integer between 1 to 99:88\n"
          ],
          "name": "stdout"
        }
      ]
    },
    {
      "cell_type": "markdown",
      "metadata": {
        "id": "5pEyXSgfcQD5",
        "colab_type": "text"
      },
      "source": [
        "# How to sort a dictionary by values in Python"
      ]
    },
    {
      "cell_type": "code",
      "metadata": {
        "id": "XoJRwrHFcUHJ",
        "colab_type": "code",
        "colab": {
          "base_uri": "https://localhost:8080/",
          "height": 51
        },
        "outputId": "b56a4d7a-d41d-42b9-d041-f456f7fb3d3a"
      },
      "source": [
        "d = {\"Pierre\": 42, \"Anne\": 33, \"Zoe\": 24}\n",
        "#Use the sorted function and operator module\n",
        "import operator\n",
        "sorted_d = sorted(d.items(), key=operator.itemgetter(1))\n",
        "print(sorted_d)\n",
        "sorted_a= sorted(d.items(), key=operator.itemgetter(1),reverse=True)\n",
        "print(sorted_a)\n"
      ],
      "execution_count": 16,
      "outputs": [
        {
          "output_type": "stream",
          "text": [
            "[('Zoe', 24), ('Anne', 33), ('Pierre', 42)]\n",
            "[('Pierre', 42), ('Anne', 33), ('Zoe', 24)]\n"
          ],
          "name": "stdout"
        }
      ]
    },
    {
      "cell_type": "markdown",
      "metadata": {
        "id": "eamePW4zcZBy",
        "colab_type": "text"
      },
      "source": [
        "# #FILE EXAMPLES\n",
        "# Python Program to count the number of lines in a text file. "
      ]
    },
    {
      "cell_type": "code",
      "metadata": {
        "id": "FHQZgqFdckxw",
        "colab_type": "code",
        "colab": {
          "base_uri": "https://localhost:8080/",
          "height": 207
        },
        "outputId": "1b5e43ca-d2a3-4af3-af78-e0c4849e9d42"
      },
      "source": [
        "# Python Program to count the number of lines in a text file. \n",
        "from google.colab import drive\n",
        "drive.mount('/content/drive')\n",
        "#Python Program to count the number of lines in a text file. \n",
        "file= '/content/Newfile.txt'\n",
        "num_lines = 0\n",
        "with open(file, 'r') as f:\n",
        "#for line in f:\n",
        "  num_lines += 1\n",
        "  print(\"Number of lines:\")\n",
        "  print(num_lines)\n",
        "\n"
      ],
      "execution_count": 23,
      "outputs": [
        {
          "output_type": "stream",
          "text": [
            "Go to this URL in a browser: https://accounts.google.com/o/oauth2/auth?client_id=947318989803-6bn6qk8qdgf4n4g3pfee6491hc0brc4i.apps.googleusercontent.com&redirect_uri=urn%3aietf%3awg%3aoauth%3a2.0%3aoob&response_type=code&scope=email%20https%3a%2f%2fwww.googleapis.com%2fauth%2fdocs.test%20https%3a%2f%2fwww.googleapis.com%2fauth%2fdrive%20https%3a%2f%2fwww.googleapis.com%2fauth%2fdrive.photos.readonly%20https%3a%2f%2fwww.googleapis.com%2fauth%2fpeopleapi.readonly\n",
            "\n",
            "Enter your authorization code:\n",
            "··········\n",
            "Mounted at /content/drive\n",
            "Number of lines:\n",
            "1\n",
            "Drive already mounted at /content/drive; to attempt to forcibly remount, call drive.mount(\"/content/drive\", force_remount=True).\n",
            "Number of lines:\n",
            "1\n"
          ],
          "name": "stdout"
        }
      ]
    },
    {
      "cell_type": "markdown",
      "metadata": {
        "id": "i1cxQbnQerS0",
        "colab_type": "text"
      },
      "source": [
        "# Python Program to count the number of words in a text file. "
      ]
    },
    {
      "cell_type": "code",
      "metadata": {
        "id": "2c8Yp27nevm_",
        "colab_type": "code",
        "colab": {
          "base_uri": "https://localhost:8080/",
          "height": 119
        },
        "outputId": "93ada50f-e6f6-4de8-b493-e851ab5453cb"
      },
      "source": [
        "#Python Program to count the number of lines in a text file. \n",
        "file = '/content/New.txt'\n",
        "num_words = 0\n",
        "with open(file, 'r') as f:\n",
        "    for line in f:\n",
        "      words = line.split()\n",
        "      print(words)\n",
        "      num_words += len(words)\n",
        "      print(\"Number of words:\")\n",
        "      print(num_words)\n"
      ],
      "execution_count": 6,
      "outputs": [
        {
          "output_type": "stream",
          "text": [
            "['Myself', 'ritika']\n",
            "Number of words:\n",
            "2\n",
            "['I', 'am', 'very', 'much', 'interested', 'in', 'coding.']\n",
            "Number of words:\n",
            "9\n"
          ],
          "name": "stdout"
        }
      ]
    },
    {
      "cell_type": "markdown",
      "metadata": {
        "id": "lxtYS7BGxYmM",
        "colab_type": "text"
      },
      "source": [
        "# Python Program to count the occurrences of a word in a text file."
      ]
    },
    {
      "cell_type": "code",
      "metadata": {
        "id": "Nh2iQBZCxdlD",
        "colab_type": "code",
        "colab": {
          "base_uri": "https://localhost:8080/",
          "height": 34
        },
        "outputId": "a9dd0cc1-8068-4c0a-866b-2e76daab344b"
      },
      "source": [
        "fname = '/content/New.txt'\n",
        "word=input(\"Enter word to be searched:\")\n",
        "k = 0\n",
        "\n",
        "with open(fname, 'r') as f:\n",
        "  for line in f:\n",
        "    words = line.split()\n",
        "  for i in words:\n",
        "    if(i==word):\n",
        "      k=k+1\n",
        "      print(\"Occurrences of the word:\")\n",
        "      print(k)\n"
      ],
      "execution_count": 8,
      "outputs": [
        {
          "output_type": "stream",
          "text": [
            "Enter word to be searched:coding\n"
          ],
          "name": "stdout"
        }
      ]
    },
    {
      "cell_type": "markdown",
      "metadata": {
        "id": "FDmPCX0Ox12G",
        "colab_type": "text"
      },
      "source": [
        "# Python Program to copy the contents of one file into another. "
      ]
    },
    {
      "cell_type": "code",
      "metadata": {
        "id": "rj1g89y-x7ft",
        "colab_type": "code",
        "colab": {}
      },
      "source": [
        "file1 = '/content/sample_data/sample1.txt'\n",
        "file2 = '/content/sample_data/sample2.txt'\n",
        "\n",
        "with open(file1,'r') as f:\n",
        "  with open(file2, \"w\") as f1:\n",
        "    for line in f:\n",
        "      f1.write(line)\n"
      ],
      "execution_count": 8,
      "outputs": []
    },
    {
      "cell_type": "markdown",
      "metadata": {
        "id": "Fxscx1R41bH8",
        "colab_type": "text"
      },
      "source": [
        "# Python Program to read the contents of the file in reverse order."
      ]
    },
    {
      "cell_type": "code",
      "metadata": {
        "id": "ipae4--Z1iVR",
        "colab_type": "code",
        "colab": {
          "base_uri": "https://localhost:8080/",
          "height": 51
        },
        "outputId": "185c6e88-a035-4926-f552-7f1e6d1ab49c"
      },
      "source": [
        "file = '/content/sample1.txt'\n",
        "with open (file,'r') as f:\n",
        "  for line in f:\n",
        "    l=line.split()\n",
        "    l.reverse() \n",
        "    st= \"\".join(l)\n",
        "    print (st)\n"
      ],
      "execution_count": 13,
      "outputs": [
        {
          "output_type": "stream",
          "text": [
            "ritikaMyself\n",
            "hacking.ininterestingmuchveryamI\n"
          ],
          "name": "stdout"
        }
      ]
    },
    {
      "cell_type": "markdown",
      "metadata": {
        "id": "Zml7vanL2ivd",
        "colab_type": "text"
      },
      "source": [
        ""
      ]
    }
  ]
}