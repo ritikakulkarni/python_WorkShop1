{
  "nbformat": 4,
  "nbformat_minor": 0,
  "metadata": {
    "colab": {
      "name": "Python_Day1Session1.ipynb",
      "provenance": [],
      "authorship_tag": "ABX9TyMmEK8j+dsspFboqv0KBLS/",
      "include_colab_link": true
    },
    "kernelspec": {
      "name": "python3",
      "display_name": "Python 3"
    }
  },
  "cells": [
    {
      "cell_type": "markdown",
      "metadata": {
        "id": "view-in-github",
        "colab_type": "text"
      },
      "source": [
        "<a href=\"https://colab.research.google.com/github/ritikakulkarni/python_WorkShop1/blob/master/Python_Day1Session1.ipynb\" target=\"_parent\"><img src=\"https://colab.research.google.com/assets/colab-badge.svg\" alt=\"Open In Colab\"/></a>"
      ]
    },
    {
      "cell_type": "code",
      "metadata": {
        "id": "OWJ-xuGXEwEK",
        "colab_type": "code",
        "colab": {}
      },
      "source": [
        ""
      ],
      "execution_count": null,
      "outputs": []
    },
    {
      "cell_type": "markdown",
      "metadata": {
        "id": "FAsOxT9gE1yX",
        "colab_type": "text"
      },
      "source": [
        "# **First program in google colab**"
      ]
    },
    {
      "cell_type": "code",
      "metadata": {
        "id": "5ZDoEjA7FAdj",
        "colab_type": "code",
        "colab": {
          "base_uri": "https://localhost:8080/",
          "height": 68
        },
        "outputId": "0175fb64-25ac-4084-deb5-0872d550d5b2"
      },
      "source": [
        "#Python Program to Add Two Numbers getting through key board\n",
        "\n",
        "# sum of two nos\n",
        "num1 = int(input(\"Enter first no\"))\n",
        "num2 = int(input(\"Enter second no\"))\n",
        "\n",
        "# Adding the two numbers\n",
        "sum = num1 + num2\n",
        "\n",
        "# Display the sum\n",
        "print('The sum of {0} and {1} is {2}'.format(num1, num2, sum))\n"
      ],
      "execution_count": 1,
      "outputs": [
        {
          "output_type": "stream",
          "text": [
            "Enter first no3\n",
            "Enter second no4\n",
            "The sum of 3 and 4 is 7\n"
          ],
          "name": "stdout"
        }
      ]
    },
    {
      "cell_type": "markdown",
      "metadata": {
        "id": "O0L5s8UYFUoo",
        "colab_type": "text"
      },
      "source": [
        "# **Python program to check if the input year is a leap year or not**"
      ]
    },
    {
      "cell_type": "code",
      "metadata": {
        "id": "BV5sVXKYFbGy",
        "colab_type": "code",
        "colab": {
          "base_uri": "https://localhost:8080/",
          "height": 51
        },
        "outputId": "26a99cc5-ae6f-45dc-ccc4-02244da7264d"
      },
      "source": [
        "#Python program to check if the input year is a leap year or not\n",
        "\n",
        "# To get year (integer input) from the user\n",
        "year = int(input(\"Enter a year: \"))\n",
        "\n",
        "if ((year % 4) == 0 and (year % 100)  != 0) or ((year % 400) == 0):\n",
        "      print(\"{0} is a leap year\".format(year))\n",
        "else:\n",
        "      print(\"{0} is not a leap year\".format(year))\n"
      ],
      "execution_count": 2,
      "outputs": [
        {
          "output_type": "stream",
          "text": [
            "Enter a year: 2000\n",
            "2000 is a leap year\n"
          ],
          "name": "stdout"
        }
      ]
    },
    {
      "cell_type": "markdown",
      "metadata": {
        "id": "S8AZIAr2GJF-",
        "colab_type": "text"
      },
      "source": [
        "# **Python Program to Generate a Random Number **"
      ]
    },
    {
      "cell_type": "code",
      "metadata": {
        "id": "oHId7zNQGNY5",
        "colab_type": "code",
        "colab": {
          "base_uri": "https://localhost:8080/",
          "height": 34
        },
        "outputId": "2ad0d442-ed35-4f7e-b574-a6a6be41d83d"
      },
      "source": [
        "# Program to generate a random number between 0 and 9\n",
        "# import the random module\n",
        "import random\n",
        "print(random.randint(0,9))\n",
        "\n"
      ],
      "execution_count": 3,
      "outputs": [
        {
          "output_type": "stream",
          "text": [
            "3\n"
          ],
          "name": "stdout"
        }
      ]
    },
    {
      "cell_type": "markdown",
      "metadata": {
        "id": "7PFNsSWAGXGJ",
        "colab_type": "text"
      },
      "source": [
        "# **Python Program to Convert Kilometers to Miles **"
      ]
    },
    {
      "cell_type": "code",
      "metadata": {
        "id": "JhDFzbsSGbZm",
        "colab_type": "code",
        "colab": {
          "base_uri": "https://localhost:8080/",
          "height": 51
        },
        "outputId": "ce169519-b44a-4a64-f92c-6f90f3acc760"
      },
      "source": [
        "# To take kilometers from the user, uncomment the code below\n",
        "kilometers = int(input(\"Enter value in kilometers\"))\n",
        "\n",
        "# conversion factor\n",
        "conv_fac = 0.621371\n",
        "\n",
        "# calculate miles\n",
        "miles = kilometers * conv_fac\n",
        "print('%0.3f kilometers is equal to %0.3f miles' %(kilometers,miles))\n",
        "\n"
      ],
      "execution_count": 4,
      "outputs": [
        {
          "output_type": "stream",
          "text": [
            "Enter value in kilometers10\n",
            "10.000 kilometers is equal to 6.214 miles\n"
          ],
          "name": "stdout"
        }
      ]
    },
    {
      "cell_type": "markdown",
      "metadata": {
        "id": "zZHAG0BwIZ3L",
        "colab_type": "text"
      },
      "source": [
        "Python Program to Solve Quadratic Equation \n",
        "\n",
        "# New Section"
      ]
    },
    {
      "cell_type": "code",
      "metadata": {
        "id": "olaN30yBIdF3",
        "colab_type": "code",
        "colab": {
          "base_uri": "https://localhost:8080/",
          "height": 85
        },
        "outputId": "6453c5c3-1d38-42b1-e397-29bcda78f446"
      },
      "source": [
        "# Solve the quadratic equation ax**2 + bx + c = 0\n",
        "# importing  complex math module\n",
        "import cmath\n",
        "\n",
        "# To take coefficient input from the users\n",
        "a = float(input('Enter a: '))\n",
        "b = float(input('Enter b: '))\n",
        "c = float(input('Enter c: '))\n",
        "\n",
        "# calculate the discriminant\n",
        "d = (b**2) - (4*a*c)\n",
        "\n",
        "# find two solutions\n",
        "sol1 = (-b-cmath.sqrt(d))/(2*a)\n",
        "sol2 = (-b+cmath.sqrt(d))/(2*a)\n",
        "\n",
        "print('The solution are {0} and {1}'.format(sol1,sol2))\n",
        "\n"
      ],
      "execution_count": 5,
      "outputs": [
        {
          "output_type": "stream",
          "text": [
            "Enter a: 3\n",
            "Enter b: 4\n",
            "Enter c: 5\n",
            "The solution are (-0.6666666666666666-1.1055415967851332j) and (-0.6666666666666666+1.1055415967851332j)\n"
          ],
          "name": "stdout"
        }
      ]
    }
  ]
}